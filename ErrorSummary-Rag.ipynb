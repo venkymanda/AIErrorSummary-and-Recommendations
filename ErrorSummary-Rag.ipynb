{
 "cells": [
  {
   "cell_type": "code",
   "execution_count": 7,
   "metadata": {},
   "outputs": [],
   "source": [
    "from typing import List\n",
    "import openai\n",
    "import pinecone \n",
    "import os\n",
    "from pinecone import Pinecone\n",
    "from dotenv import load_dotenv\n",
    "from pinecone import ServerlessSpec\n",
    "# Load environment variables\n",
    "load_dotenv()\n",
    "\n",
    "# OpenAI and Pinecone setup\n",
    "OPENAI_API_KEY = os.getenv('OPENAI_API_KEY')\n",
    "OPENAI_BASE_URL = os.getenv('OPENAI_BASE_URL')\n",
    "PINECONE_API_KEY = os.getenv('PINECONE_API_KEY')\n",
    "\n",
    "# configure client\n",
    "pc = Pinecone(api_key=PINECONE_API_KEY)\n",
    "\n",
    "# Set your API keys\n",
    "openai.api_key = OPENAI_API_KEY\n",
    "openai.base_url=OPENAI_BASE_URL\n",
    "\n",
    "cloud = os.environ.get('PINECONE_CLOUD') or 'aws'\n",
    "region = os.environ.get('PINECONE_REGION') or 'us-east-1'\n",
    "\n",
    "\n",
    "spec = ServerlessSpec(cloud=cloud, region=region)\n",
    "# we create a new index\n",
    "\n",
    "error_index = \"error-summary-recommendations-small\"\n",
    "if error_index not in pc.list_indexes().names():\n",
    "    pc.create_index(\n",
    "        \"error-summary-recommendations-small\",\n",
    "        dimension=1536,  # dimensionality of text-embedding-ada-002\n",
    "        metric='dotproduct',\n",
    "        spec=spec\n",
    "    )\n",
    "\n",
    "\n"
   ]
  },
  {
   "cell_type": "code",
   "execution_count": 8,
   "metadata": {},
   "outputs": [],
   "source": [
    "# Create or connect to an index\n",
    "\n",
    "index = pc.Index(error_index)"
   ]
  },
  {
   "cell_type": "code",
   "execution_count": 15,
   "metadata": {},
   "outputs": [
    {
     "name": "stdout",
     "output_type": "stream",
     "text": [
      "{\"text\": \"Error: InvalidTemplate. Unable to process template language expressions in action 'Create_OilLog_record' inputs at line '0' and column '0': 'The template language expression 'int(xpath(xml(body('Get_blob_content')),'//*[local-name()=\\\"CMDDATA\\\"]/*[local-name()=\\\"PRODNO\\\"]/text()')[0])' cannot be evaluated because array index '0' cannot be selected from empty array. Please see https://aka.ms/logicexpressions for usage details.'.\\nRecommendation: This error can be ignored because it occurs when the specified XPath query does not find any matching elements in the XML content.\", \"metadata\": {\"logic_app_name\": \"AGRO365-OilBusiness-ODATASendConnector-Prod\", \"s_no\": \"1\"}}\n",
      "{\"text\": \"Error: ActionResponseTimedOut. The execution of template action 'Response_to_Adyen' is failed: the client application timed out waiting for a response from service. This means that workflow took longer to respond than the alloted timeout value. The connection maintained between the client application and service will be closed and client application will get an HTTP status code 504 Gateway Timeout.\\nRecommendation: This error can be ignored because 504 Gateway Timeout. This timeout can happen because temporary network issues.\", \"metadata\": {\"logic_app_name\": \"Adyen-Notification-Webhook-Prod\", \"s_no\": \"2\"}}\n",
      "{\"text\": \"Error: \\\"message\\\":\\\"Write failed for table row of type 'DAO_MES_WeighOnesEntity'. Infolog: Info: Cannot create a record in MES WeighOnes (DAO_MES_WeighOnes). Transaction: 0731286, 8602102.\\\\nThe record already exists..\\\",\\\"type\\\":\\\"Microsoft.Dynamics.Platform.Integration.Services.OData.AxODataWriteException\\\",\\\"stacktrace\\\":\\\"   at Microsoft.Dynamics.Platform.Integration.Services.OData.Update.UpdateProcessor.CreateEntity_Save(ChangeOperationContext context, ChangeInfo changeInfo)\\\\r\\\\n   at Microsoft.Dynamics.Platform.Integration.Services.OData.Update.ChangeInfo.ExecuteActionsInCompanyContext(IEnumerable`1 actionList, ChangeOperationContext operationContext)\\\\r\\\\n   at Microsoft.Dynamics.Platform.Integration.Services.OData.Update.ChangeInfo.TrySave(ChangeOperationContext operationContext)\\\\r\\\\n   at Microsoft.Dynamics.Platform.Integration.Services.OData.Update.UpdateManager.SaveChanges()\\\\r\\\\n   at Microsoft.Dynamics.Platform.Integration.Services.OData.AxODataDelegatingHandler.<SaveChangesAsync>d__2.MoveNext()\\\"\\nRecommendation: This error can be ignored because it occurs when attempting to create a record in the 'MES WeighOnes' table that already exists.\", \"metadata\": {\"logic_app_name\": \"MES-WeighOnce-ReceiveSend-Prod\", \"s_no\": \"3\"}}\n",
      "{\"text\": \"Error: InvalidTemplate. Unable to process template language expressions in action 'InsertEntityRecordsAPI' inputs at line '0' and column '0': 'The template language 'decimal' function was invoked with a parameter that is not a valid decimal, ''. The value cannot be converted to the target type. Please see https://aka.ms/logicexpressions#decimal for usage details.'.\\nRecommendation: This error can be ignored because it occurs when the 'decimal' function is invoked with an invalid parameter, often an empty string.\", \"metadata\": {\"logic_app_name\": \"MES-WeighOnce-ReceiveSend-Prod\", \"s_no\": \"4\"}}\n",
      "{\"text\": \"Error: \\\"message\\\": \\\"BadGateway\\\",\\nRecommendation: This error requires resubmission because a \\\"Bad Gateway\\\" (502) error occurs when the server acting as a gateway or proxy receives an invalid response from the upstream server.\", \"metadata\": {\"logic_app_name\": \"AGRO365-NewBatch-ReceiveConnectorSync-Prod\", \"s_no\": \"5\"}}\n",
      "{\"text\": \"Error: Unable to load OData adapter from assembly Simple.OData.Client.V4.Adapter\\nRecommendation: this error requires resubmission because it occurs when the OData adapter cannot be loaded from the specified assembly (Simple.OData.Client.V4.Adapter).  Resubmitting the request gives the system another chance to load the required adapter successfully and proceed with the operation\", \"metadata\": {\"logic_app_name\": \"Agro365-Oillog-Prod\", \"s_no\": \"6\"}}\n",
      "{\"text\": \"Error: message\\\": \\\"Specified resource /messages/Filename/ not found.\\\"\\nRecommendation: This error can be ignored because that file is already exceuted\", \"metadata\": {\"logic_app_name\": \"CircleK-Invoice-Receive-Prod\", \"s_no\": \"7\"}}\n",
      "{\"text\": \"Error: InvalidTemplate. Unable to process template language expressions in action 'Set_variable' inputs at line '0' and column '0': 'The template language function 'xml' parameter is not valid. The provided value cannot be converted to XML: 'The 'NO' start tag on line 2 position 1540 does not match the end tag of 'CMDDATA'. Line 2, position 5187.'. Please see https://aka.ms/logicexpressions#xml for usage details.'.\\nRecommendation: This error can be ignored because it occurs when the XML content being processed is malformed, with mismatched start and end tags.\", \"metadata\": {\"logic_app_name\": \"OilBusiness-ReceiveSend-OilLog-Prod\", \"s_no\": \"8\"}}\n",
      "{\"text\": \"Error: No OilLogs could be found for lotID : 20012517033\\nRecommendation: This error can be ignored because OilLogs could not be found with that lotID\", \"metadata\": {\"logic_app_name\": \"AGRO365-TruckOrder-Receive-Prod\", \"s_no\": \"9\"}}\n",
      "{\"text\": \"Error: \\\"message\\\": \\\"Rate limit is exceeded. Try again in 8 seconds. Please see https://docs.microsoft.com/azure/logic-apps/handle-throttling-problems-429-errors for more details.\\\"\\nRecommendation: Resubmit. Rate limit is exceeded\", \"metadata\": {\"logic_app_name\": \"CircleK-Invoice-CheckReference-Prod\", \"s_no\": \"10\"}}\n"
     ]
    }
   ],
   "source": [
    "import csv\n",
    "import json\n",
    "\n",
    "from uuid import uuid4\n",
    "\n",
    "def get_embedding(text: str) -> List[float]:\n",
    "    response = openai.embeddings.create(\n",
    "        input=text,\n",
    "        model=\"text-embedding-ada-002\"\n",
    "    )\n",
    "    return response.data[0].embedding\n",
    "\n",
    "\n",
    "def process_csv(input_file, output_file):\n",
    "    with open(input_file, 'r', newline='', encoding='utf-8') as csvfile, \\\n",
    "         open(output_file, 'w', encoding='utf-8') as txtfile:\n",
    "        csv_reader = csv.DictReader(csvfile)\n",
    "        for row in csv_reader:\n",
    "            error = row['Error'].strip()\n",
    "            recommendation = row['Recommendation'].strip()\n",
    "            \n",
    "            # Write to text file\n",
    "            txtfile.write(f\"Error: {error}\\n\")\n",
    "            txtfile.write(f\"Recommendation: {recommendation}\\n\\n\")\n",
    "            \n",
    "            # Prepare data for Pinecone indexing\n",
    "            index_data = {\n",
    "                \"text\": f\"Error: {error}\\nRecommendation: {recommendation}\",\n",
    "                \"metadata\": {\n",
    "                    \"logic_app_name\": row['Logic App Name'],\n",
    "                    \"s_no\": row['S. No']\n",
    "                }\n",
    "            }\n",
    "            metadata = {\n",
    "                \"logic_app_name\": row['Logic App Name'],\n",
    "                \"s_no\": row['S. No'],\n",
    "                \"text\": f\"Error: {error}\\nRecommendation: {recommendation}\",\n",
    "            }\n",
    "            \n",
    "            # Assume 'index_data' is the JSON object created by the previous script\n",
    "            vector = get_embedding(index_data['text'])\n",
    "            # Create a single tuple for upsert\n",
    "            id = str(uuid4())\n",
    "            upsert_tuple = (id, vector,metadata )\n",
    "            \n",
    "            # Upsert the single item\n",
    "            index.upsert(vectors=[upsert_tuple])\n",
    "            # Print the JSON object that can be used for Pinecone indexing\n",
    "            print(json.dumps(index_data))\n",
    "\n",
    "\n",
    "# Usage\n",
    "\n",
    "input_csv = 'Error Summary.csv'\n",
    "output_txt = 'output_errors_recommendations.txt'\n",
    "process_csv(input_csv, output_txt)"
   ]
  },
  {
   "cell_type": "code",
   "execution_count": 1,
   "metadata": {},
   "outputs": [
    {
     "name": "stderr",
     "output_type": "stream",
     "text": [
      "c:\\Users\\VenkataNarayana\\AppData\\Local\\Programs\\Python\\Python311\\Lib\\site-packages\\pinecone\\data\\index.py:1: TqdmWarning: IProgress not found. Please update jupyter and ipywidgets. See https://ipywidgets.readthedocs.io/en/stable/user_install.html\n",
      "  from tqdm.autonotebook import tqdm\n",
      "c:\\Users\\VenkataNarayana\\AppData\\Local\\Programs\\Python\\Python311\\Lib\\site-packages\\langchain_core\\_api\\deprecation.py:117: LangChainDeprecationWarning: The class `langchain_community.embeddings.openai.OpenAIEmbeddings` was deprecated in langchain-community 0.1.0 and will be removed in 0.2.0. An updated version of the class exists in the langchain-openai package and should be used instead. To use it run `pip install -U langchain-openai` and import as `from langchain_openai import OpenAIEmbeddings`.\n",
      "  warn_deprecated(\n"
     ]
    }
   ],
   "source": [
    "from langchain.embeddings.openai import OpenAIEmbeddings\n",
    "import os\n",
    "\n",
    "from dotenv import load_dotenv\n",
    "from pinecone import ServerlessSpec\n",
    "# Load environment variables\n",
    "load_dotenv()\n",
    "\n",
    "# OpenAI and Pinecone setup\n",
    "OPENAI_API_KEY = os.getenv('OPENAI_API_KEY')\n",
    "OPENAI_BASE_URL = os.getenv('OPENAI_BASE_URL')\n",
    "PINECONE_API_KEY = os.getenv('PINECONE_API_KEY')\n",
    "model_name = 'text-embedding-ada-002'\n",
    "\n",
    "embed = OpenAIEmbeddings(\n",
    "    model=model_name,\n",
    "    openai_api_key=OPENAI_API_KEY,\n",
    "    openai_api_base=OPENAI_BASE_URL\n",
    ")"
   ]
  },
  {
   "cell_type": "code",
   "execution_count": 16,
   "metadata": {},
   "outputs": [
    {
     "name": "stderr",
     "output_type": "stream",
     "text": [
      "c:\\Users\\VenkataNarayana\\AppData\\Local\\Programs\\Python\\Python311\\Lib\\site-packages\\langchain_community\\vectorstores\\pinecone.py:75: UserWarning: Passing in `embedding` as a Callable is deprecated. Please pass in an Embeddings object instead.\n",
      "  warnings.warn(\n"
     ]
    }
   ],
   "source": [
    "from langchain.vectorstores import Pinecone\n",
    "\n",
    "errorlog_vectorstore = Pinecone(\n",
    "    index, embed.embed_query, \"text\"\n",
    ")\n",
    "query='message\": \"BadGateway\"'\n",
    "\n",
    "results = errorlog_vectorstore.similarity_search(query, k=3)"
   ]
  },
  {
   "cell_type": "code",
   "execution_count": 17,
   "metadata": {},
   "outputs": [
    {
     "data": {
      "text/plain": [
       "[Document(page_content='Error: \"message\": \"BadGateway\",\\nRecommendation: This error requires resubmission because a \"Bad Gateway\" (502) error occurs when the server acting as a gateway or proxy receives an invalid response from the upstream server.', metadata={'logic_app_name': 'AGRO365-NewBatch-ReceiveConnectorSync-Prod', 's_no': '5'}),\n",
       " Document(page_content='Error: \"message\": \"Rate limit is exceeded. Try again in 8 seconds. Please see https://docs.microsoft.com/azure/logic-apps/handle-throttling-problems-429-errors for more details.\"\\nRecommendation: Resubmit. Rate limit is exceeded', metadata={'logic_app_name': 'CircleK-Invoice-CheckReference-Prod', 's_no': '10'}),\n",
       " Document(page_content=\"Error: ActionResponseTimedOut. The execution of template action 'Response_to_Adyen' is failed: the client application timed out waiting for a response from service. This means that workflow took longer to respond than the alloted timeout value. The connection maintained between the client application and service will be closed and client application will get an HTTP status code 504 Gateway Timeout.\\nRecommendation: This error can be ignored because 504 Gateway Timeout. This timeout can happen because temporary network issues.\", metadata={'logic_app_name': 'Adyen-Notification-Webhook-Prod', 's_no': '2'})]"
      ]
     },
     "execution_count": 17,
     "metadata": {},
     "output_type": "execute_result"
    }
   ],
   "source": [
    "results"
   ]
  }
 ],
 "metadata": {
  "kernelspec": {
   "display_name": "Python 3",
   "language": "python",
   "name": "python3"
  },
  "language_info": {
   "codemirror_mode": {
    "name": "ipython",
    "version": 3
   },
   "file_extension": ".py",
   "mimetype": "text/x-python",
   "name": "python",
   "nbconvert_exporter": "python",
   "pygments_lexer": "ipython3",
   "version": "3.11.5"
  }
 },
 "nbformat": 4,
 "nbformat_minor": 2
}
